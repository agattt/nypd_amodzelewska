{
 "cells": [
  {
   "cell_type": "markdown",
   "source": [
    "# Przykładowe użycie biblioteki"
   ],
   "metadata": {
    "collapsed": false,
    "pycharm": {
     "name": "#%% md\n"
    }
   }
  },
  {
   "cell_type": "markdown",
   "source": [
    "## Ścieżki do plików"
   ],
   "metadata": {
    "collapsed": false
   }
  },
  {
   "cell_type": "code",
   "execution_count": 1,
   "outputs": [],
   "source": [
    "import pandas as pd\n",
    "\n",
    "gminy_19 = \"data/2019/Gminy_za_2019.xlsx\"\n",
    "gminy_20 = \"data/2020/Gminy_2_za_2020.xlsx\"\n",
    "\n",
    "powiaty_19 = \"data/2019/Powiaty_za_2019.xlsx\"\n",
    "powiaty_20 = \"data/2020/Powiaty_za_2020.xlsx\"\n",
    "\n",
    "województwa_19 = \"data/2019/Województwa_za_2019.xlsx\"\n",
    "województwa_20 = \"data/2020/Województwa_za_2020.xlsx\"\n",
    "\n",
    "miasta_19 = \"data/2019/Miasta_NPP_za_2019.xlsx\"\n",
    "miasta_20 = \"data/2020/Miasta_NPP_2_za_2020.xlsx\"\n",
    "\n",
    "gminy_populacja = \"data/Populacja/Gminy.xls\"\n",
    "powiaty_populacja = \"data/Populacja/Powiaty.xls\"\n",
    "województwa_populacja = \"data/Populacja/Województwa.xls\""
   ],
   "metadata": {
    "collapsed": false,
    "pycharm": {
     "name": "#%%\n"
    }
   }
  },
  {
   "cell_type": "markdown",
   "source": [
    "## Procentowe udziały JST w podatku PIT (wynikające z mojego zrozumienia)\n",
    "\n",
    "Między rokiem 2019 oraz 2020 udział gmin wzrósł z 38,08% do 38,16%.\n",
    "\n",
    "Udziały gmin oraz powiatów pozostały jednocześnie bez zmian.\n",
    "\n",
    "Miasta na prawach powiatu otrzymują \"część gminną\"\n",
    "oraz \"część powiatową\" -> zatem ich udział to suma udziału gmin\n",
    "i powiatów."
   ],
   "metadata": {
    "collapsed": false
   }
  },
  {
   "cell_type": "code",
   "execution_count": 2,
   "outputs": [],
   "source": [
    "share_gmina_20 = 0.3816\n",
    "\n",
    "share_gmina_19 = 0.3808\n",
    "\n",
    "share_powiat = 0.1025\n",
    "\n",
    "share_województwo = 0.016\n",
    "\n",
    "share_miasto_20 = share_gmina_20 + share_powiat\n",
    "\n",
    "share_miasto_19 = share_gmina_19 + share_powiat\n",
    "\n",
    "tax_threshold = 0.17\n",
    "\n",
    "paying_percentage = 0.7"
   ],
   "metadata": {
    "collapsed": false,
    "pycharm": {
     "name": "#%%\n"
    }
   }
  },
  {
   "cell_type": "markdown",
   "source": [
    "## I. Porównanie dochodów z PIT między dwoma latami"
   ],
   "metadata": {
    "collapsed": false,
    "pycharm": {
     "name": "#%% md\n"
    }
   }
  },
  {
   "cell_type": "code",
   "execution_count": 3,
   "outputs": [],
   "source": [
    "from package_pit.pit_assignment.run_comparison import compare"
   ],
   "metadata": {
    "collapsed": false,
    "pycharm": {
     "name": "#%%\n"
    }
   }
  },
  {
   "cell_type": "markdown",
   "source": [
    "### Gminy"
   ],
   "metadata": {
    "collapsed": false,
    "pycharm": {
     "name": "#%% md\n"
    }
   }
  },
  {
   "cell_type": "code",
   "execution_count": 4,
   "outputs": [
    {
     "name": "stdout",
     "output_type": "stream",
     "text": [
      "Między latami nie nastąpiły zmiany kodów jednostek terytorialnych\n"
     ]
    },
    {
     "data": {
      "text/plain": "  Kod Jednostki Terytorialnej     Nazwa JST   Województwo         Powiat  \\\n0                     0201011   BOLESŁAWIEC  dolnośląskie  bolesławiecki   \n1                     0201022   BOLESŁAWIEC  dolnośląskie  bolesławiecki   \n2                     0201032      GROMADKA  dolnośląskie  bolesławiecki   \n3                     0201043  NOWOGRODZIEC  dolnośląskie  bolesławiecki   \n4                     0201052    OSIECZNICA  dolnośląskie  bolesławiecki   \n\n   Dochód z PIT w 2019  Dochód z PIT w 2020  2020 - 2019  \n0             42642404             40456699     -2185705  \n1             14042861             13789712      -253149  \n2              3550411              3573540        23129  \n3              9498051              9553744        55693  \n4              6055695              5844560      -211135  ",
      "text/html": "<div>\n<style scoped>\n    .dataframe tbody tr th:only-of-type {\n        vertical-align: middle;\n    }\n\n    .dataframe tbody tr th {\n        vertical-align: top;\n    }\n\n    .dataframe thead th {\n        text-align: right;\n    }\n</style>\n<table border=\"1\" class=\"dataframe\">\n  <thead>\n    <tr style=\"text-align: right;\">\n      <th></th>\n      <th>Kod Jednostki Terytorialnej</th>\n      <th>Nazwa JST</th>\n      <th>Województwo</th>\n      <th>Powiat</th>\n      <th>Dochód z PIT w 2019</th>\n      <th>Dochód z PIT w 2020</th>\n      <th>2020 - 2019</th>\n    </tr>\n  </thead>\n  <tbody>\n    <tr>\n      <th>0</th>\n      <td>0201011</td>\n      <td>BOLESŁAWIEC</td>\n      <td>dolnośląskie</td>\n      <td>bolesławiecki</td>\n      <td>42642404</td>\n      <td>40456699</td>\n      <td>-2185705</td>\n    </tr>\n    <tr>\n      <th>1</th>\n      <td>0201022</td>\n      <td>BOLESŁAWIEC</td>\n      <td>dolnośląskie</td>\n      <td>bolesławiecki</td>\n      <td>14042861</td>\n      <td>13789712</td>\n      <td>-253149</td>\n    </tr>\n    <tr>\n      <th>2</th>\n      <td>0201032</td>\n      <td>GROMADKA</td>\n      <td>dolnośląskie</td>\n      <td>bolesławiecki</td>\n      <td>3550411</td>\n      <td>3573540</td>\n      <td>23129</td>\n    </tr>\n    <tr>\n      <th>3</th>\n      <td>0201043</td>\n      <td>NOWOGRODZIEC</td>\n      <td>dolnośląskie</td>\n      <td>bolesławiecki</td>\n      <td>9498051</td>\n      <td>9553744</td>\n      <td>55693</td>\n    </tr>\n    <tr>\n      <th>4</th>\n      <td>0201052</td>\n      <td>OSIECZNICA</td>\n      <td>dolnośląskie</td>\n      <td>bolesławiecki</td>\n      <td>6055695</td>\n      <td>5844560</td>\n      <td>-211135</td>\n    </tr>\n  </tbody>\n</table>\n</div>"
     },
     "execution_count": 4,
     "metadata": {},
     "output_type": "execute_result"
    }
   ],
   "source": [
    "df = compare(gminy_19, gminy_20, \"2019\", \"2020\", \"Gminy\", \"Gminy.xlsx\")\n",
    "\n",
    "df.head()"
   ],
   "metadata": {
    "collapsed": false,
    "pycharm": {
     "name": "#%%\n"
    }
   }
  },
  {
   "cell_type": "markdown",
   "source": [
    "### Powiaty"
   ],
   "metadata": {
    "collapsed": false
   }
  },
  {
   "cell_type": "code",
   "execution_count": 5,
   "outputs": [
    {
     "name": "stdout",
     "output_type": "stream",
     "text": [
      "Wykryto zmiany kodów JST. Szczegóły zobacz w pliku \"changed_codes.xlsx\"\n"
     ]
    },
    {
     "data": {
      "text/plain": "  Kod Jednostki Terytorialnej       Nazwa JST   Województwo Powiat  \\\n0                        0201   bolesławiecki  dolnośląskie      -   \n1                        0202  dzierżoniowski  dolnośląskie      -   \n2                        0203       głogowski  dolnośląskie      -   \n3                        0204        górowski  dolnośląskie      -   \n4                        0205        jaworski  dolnośląskie      -   \n\n   Dochód z PIT w 2019  Dochód z PIT w 2020  2020 - 2019  \n0             21984822             21276533      -708289  \n1             21906718             21328692      -578026  \n2             30347660             28916309     -1431351  \n3              5784270              5682116      -102154  \n4             10550026             10450783       -99243  ",
      "text/html": "<div>\n<style scoped>\n    .dataframe tbody tr th:only-of-type {\n        vertical-align: middle;\n    }\n\n    .dataframe tbody tr th {\n        vertical-align: top;\n    }\n\n    .dataframe thead th {\n        text-align: right;\n    }\n</style>\n<table border=\"1\" class=\"dataframe\">\n  <thead>\n    <tr style=\"text-align: right;\">\n      <th></th>\n      <th>Kod Jednostki Terytorialnej</th>\n      <th>Nazwa JST</th>\n      <th>Województwo</th>\n      <th>Powiat</th>\n      <th>Dochód z PIT w 2019</th>\n      <th>Dochód z PIT w 2020</th>\n      <th>2020 - 2019</th>\n    </tr>\n  </thead>\n  <tbody>\n    <tr>\n      <th>0</th>\n      <td>0201</td>\n      <td>bolesławiecki</td>\n      <td>dolnośląskie</td>\n      <td>-</td>\n      <td>21984822</td>\n      <td>21276533</td>\n      <td>-708289</td>\n    </tr>\n    <tr>\n      <th>1</th>\n      <td>0202</td>\n      <td>dzierżoniowski</td>\n      <td>dolnośląskie</td>\n      <td>-</td>\n      <td>21906718</td>\n      <td>21328692</td>\n      <td>-578026</td>\n    </tr>\n    <tr>\n      <th>2</th>\n      <td>0203</td>\n      <td>głogowski</td>\n      <td>dolnośląskie</td>\n      <td>-</td>\n      <td>30347660</td>\n      <td>28916309</td>\n      <td>-1431351</td>\n    </tr>\n    <tr>\n      <th>3</th>\n      <td>0204</td>\n      <td>górowski</td>\n      <td>dolnośląskie</td>\n      <td>-</td>\n      <td>5784270</td>\n      <td>5682116</td>\n      <td>-102154</td>\n    </tr>\n    <tr>\n      <th>4</th>\n      <td>0205</td>\n      <td>jaworski</td>\n      <td>dolnośląskie</td>\n      <td>-</td>\n      <td>10550026</td>\n      <td>10450783</td>\n      <td>-99243</td>\n    </tr>\n  </tbody>\n</table>\n</div>"
     },
     "execution_count": 5,
     "metadata": {},
     "output_type": "execute_result"
    }
   ],
   "source": [
    "df = compare(powiaty_19, powiaty_20, \"2019\", \"2020\", \"Powiaty\", \"Powiaty.xlsx\")\n",
    "\n",
    "df.head()"
   ],
   "metadata": {
    "collapsed": false,
    "pycharm": {
     "name": "#%%\n"
    }
   }
  },
  {
   "cell_type": "markdown",
   "source": [
    "### Województwa"
   ],
   "metadata": {
    "collapsed": false
   }
  },
  {
   "cell_type": "code",
   "execution_count": 6,
   "outputs": [
    {
     "name": "stdout",
     "output_type": "stream",
     "text": [
      "Między latami nie nastąpiły zmiany kodów jednostek terytorialnych\n"
     ]
    },
    {
     "data": {
      "text/plain": "  Kod Jednostki Terytorialnej           Nazwa JST Województwo Powiat  \\\n0                          02        dolnośląskie           -      -   \n1                          04  kujawsko-pomorskie           -      -   \n2                          06           lubelskie           -      -   \n3                          08            lubuskie           -      -   \n4                          10             łódzkie           -      -   \n\n   Dochód z PIT w 2019  Dochód z PIT w 2020  2020 - 2019  \n0            146544227            143787146     -2757081  \n1             80127009             77938448     -2188561  \n2             67230474             65228210     -2002264  \n3             40315577             38895731     -1419846  \n4            109411405            106927491     -2483914  ",
      "text/html": "<div>\n<style scoped>\n    .dataframe tbody tr th:only-of-type {\n        vertical-align: middle;\n    }\n\n    .dataframe tbody tr th {\n        vertical-align: top;\n    }\n\n    .dataframe thead th {\n        text-align: right;\n    }\n</style>\n<table border=\"1\" class=\"dataframe\">\n  <thead>\n    <tr style=\"text-align: right;\">\n      <th></th>\n      <th>Kod Jednostki Terytorialnej</th>\n      <th>Nazwa JST</th>\n      <th>Województwo</th>\n      <th>Powiat</th>\n      <th>Dochód z PIT w 2019</th>\n      <th>Dochód z PIT w 2020</th>\n      <th>2020 - 2019</th>\n    </tr>\n  </thead>\n  <tbody>\n    <tr>\n      <th>0</th>\n      <td>02</td>\n      <td>dolnośląskie</td>\n      <td>-</td>\n      <td>-</td>\n      <td>146544227</td>\n      <td>143787146</td>\n      <td>-2757081</td>\n    </tr>\n    <tr>\n      <th>1</th>\n      <td>04</td>\n      <td>kujawsko-pomorskie</td>\n      <td>-</td>\n      <td>-</td>\n      <td>80127009</td>\n      <td>77938448</td>\n      <td>-2188561</td>\n    </tr>\n    <tr>\n      <th>2</th>\n      <td>06</td>\n      <td>lubelskie</td>\n      <td>-</td>\n      <td>-</td>\n      <td>67230474</td>\n      <td>65228210</td>\n      <td>-2002264</td>\n    </tr>\n    <tr>\n      <th>3</th>\n      <td>08</td>\n      <td>lubuskie</td>\n      <td>-</td>\n      <td>-</td>\n      <td>40315577</td>\n      <td>38895731</td>\n      <td>-1419846</td>\n    </tr>\n    <tr>\n      <th>4</th>\n      <td>10</td>\n      <td>łódzkie</td>\n      <td>-</td>\n      <td>-</td>\n      <td>109411405</td>\n      <td>106927491</td>\n      <td>-2483914</td>\n    </tr>\n  </tbody>\n</table>\n</div>"
     },
     "execution_count": 6,
     "metadata": {},
     "output_type": "execute_result"
    }
   ],
   "source": [
    "df = compare(województwa_19, województwa_20, \"2019\", \"2020\", \"Województwa\", \"Województwa.xlsx\")\n",
    "\n",
    "df.head()"
   ],
   "metadata": {
    "collapsed": false,
    "pycharm": {
     "name": "#%%\n"
    }
   }
  },
  {
   "cell_type": "markdown",
   "source": [
    "### Miasta na prawie powiatu"
   ],
   "metadata": {
    "collapsed": false
   }
  },
  {
   "cell_type": "code",
   "execution_count": 7,
   "outputs": [
    {
     "name": "stdout",
     "output_type": "stream",
     "text": [
      "Między latami nie nastąpiły zmiany kodów jednostek terytorialnych\n"
     ]
    },
    {
     "data": {
      "text/plain": "  Kod Jednostki Terytorialnej     Nazwa JST         Województwo Powiat  \\\n0                        0261  Jelenia Góra        dolnośląskie      -   \n1                        0262       Legnica        dolnośląskie      -   \n2                        0264       Wrocław        dolnośląskie      -   \n3                        0265     Wałbrzych        dolnośląskie      -   \n4                        0461     Bydgoszcz  kujawsko-pomorskie      -   \n\n   Dochód z PIT w 2019  Dochód z PIT w 2020  2020 - 2019  \n0            107148944            103788614     -3360330  \n1            142943004            140528834     -2414170  \n2           1474665513           1459764686    -14900827  \n3            130850500            123684562     -7165938  \n4            534095797            514328370    -19767427  ",
      "text/html": "<div>\n<style scoped>\n    .dataframe tbody tr th:only-of-type {\n        vertical-align: middle;\n    }\n\n    .dataframe tbody tr th {\n        vertical-align: top;\n    }\n\n    .dataframe thead th {\n        text-align: right;\n    }\n</style>\n<table border=\"1\" class=\"dataframe\">\n  <thead>\n    <tr style=\"text-align: right;\">\n      <th></th>\n      <th>Kod Jednostki Terytorialnej</th>\n      <th>Nazwa JST</th>\n      <th>Województwo</th>\n      <th>Powiat</th>\n      <th>Dochód z PIT w 2019</th>\n      <th>Dochód z PIT w 2020</th>\n      <th>2020 - 2019</th>\n    </tr>\n  </thead>\n  <tbody>\n    <tr>\n      <th>0</th>\n      <td>0261</td>\n      <td>Jelenia Góra</td>\n      <td>dolnośląskie</td>\n      <td>-</td>\n      <td>107148944</td>\n      <td>103788614</td>\n      <td>-3360330</td>\n    </tr>\n    <tr>\n      <th>1</th>\n      <td>0262</td>\n      <td>Legnica</td>\n      <td>dolnośląskie</td>\n      <td>-</td>\n      <td>142943004</td>\n      <td>140528834</td>\n      <td>-2414170</td>\n    </tr>\n    <tr>\n      <th>2</th>\n      <td>0264</td>\n      <td>Wrocław</td>\n      <td>dolnośląskie</td>\n      <td>-</td>\n      <td>1474665513</td>\n      <td>1459764686</td>\n      <td>-14900827</td>\n    </tr>\n    <tr>\n      <th>3</th>\n      <td>0265</td>\n      <td>Wałbrzych</td>\n      <td>dolnośląskie</td>\n      <td>-</td>\n      <td>130850500</td>\n      <td>123684562</td>\n      <td>-7165938</td>\n    </tr>\n    <tr>\n      <th>4</th>\n      <td>0461</td>\n      <td>Bydgoszcz</td>\n      <td>kujawsko-pomorskie</td>\n      <td>-</td>\n      <td>534095797</td>\n      <td>514328370</td>\n      <td>-19767427</td>\n    </tr>\n  </tbody>\n</table>\n</div>"
     },
     "execution_count": 7,
     "metadata": {},
     "output_type": "execute_result"
    }
   ],
   "source": [
    "df = compare(miasta_19, miasta_20, \"2019\", \"2020\", \"Miasta\", \"Miasta.xlsx\")\n",
    "\n",
    "df.head()"
   ],
   "metadata": {
    "collapsed": false,
    "pycharm": {
     "name": "#%%\n"
    }
   }
  },
  {
   "cell_type": "markdown",
   "source": [
    "### Problemy\n",
    "\n",
    "Zmiany kodów jednostek terytorialnych."
   ],
   "metadata": {
    "collapsed": false,
    "pycharm": {
     "name": "#%% md\n"
    }
   }
  },
  {
   "cell_type": "markdown",
   "source": [
    "## II. Średni dochód opodatkowany dla JST w 2020"
   ],
   "metadata": {
    "collapsed": false,
    "pycharm": {
     "name": "#%% md\n"
    }
   }
  },
  {
   "cell_type": "code",
   "execution_count": 8,
   "outputs": [],
   "source": [
    "import pandas as pd\n",
    "\n",
    "writer_gminy = pd.ExcelWriter(\"Gminy.xlsx\",\n",
    "                              mode=\"a\",\n",
    "                              engine=\"openpyxl\")\n",
    "\n",
    "writer_powiaty= pd.ExcelWriter(\"Powiaty.xlsx\",\n",
    "                              mode=\"a\",\n",
    "                              engine=\"openpyxl\")\n",
    "\n",
    "writer_województwa = pd.ExcelWriter(\"Województwa.xlsx\",\n",
    "                              mode=\"a\",\n",
    "                              engine=\"openpyxl\")\n",
    "\n",
    "writer_miasta = pd.ExcelWriter(\"Miasta.xlsx\",\n",
    "                              mode=\"a\",\n",
    "                              engine=\"openpyxl\")"
   ],
   "metadata": {
    "collapsed": false,
    "pycharm": {
     "name": "#%%\n"
    }
   }
  },
  {
   "cell_type": "code",
   "execution_count": 9,
   "outputs": [],
   "source": [
    "from package_pit.pit_assignment.run_calculation import run_taxed_income\n",
    "from package_pit.pit_assignment.comparison.data_prep import create_data_frame\n",
    "from package_pit.pit_assignment.comparison.data_prep import sum_rows"
   ],
   "metadata": {
    "collapsed": false,
    "pycharm": {
     "name": "#%%\n"
    }
   }
  },
  {
   "cell_type": "markdown",
   "source": [
    "### Gminy"
   ],
   "metadata": {
    "collapsed": false,
    "pycharm": {
     "name": "#%% md\n"
    }
   }
  },
  {
   "cell_type": "code",
   "execution_count": 10,
   "outputs": [
    {
     "data": {
      "text/plain": "  Kod Jednostki Terytorialnej     Nazwa JST   Województwo         Powiat  \\\n0                     0201011   BOLESŁAWIEC  dolnośląskie  bolesławiecki   \n1                     0201022   BOLESŁAWIEC  dolnośląskie  bolesławiecki   \n2                     0201032      GROMADKA  dolnośląskie  bolesławiecki   \n3                     0201043  NOWOGRODZIEC  dolnośląskie  bolesławiecki   \n4                     0201052    OSIECZNICA  dolnośląskie  bolesławiecki   \n\n   Dochód z PIT w 2020 Liczba ludności pracującej Podatek od osoby dla JST  \\\n0             40456699                    22655.5              1785.734104   \n1             13789712                     8428.0              1636.178453   \n2              3573540                     3094.7              1154.729053   \n3              9553744                     8616.3              1108.798904   \n4              5844560                     4097.1              1426.511435   \n\n  Całkowity podatek zapłacony przez osobę  \\\n0                             4679.596709   \n1                             4287.679384   \n2                             3026.019531   \n3                             2905.657506   \n4                             3738.237513   \n\n  Średni roczny dochód opodatkowany na osobę  \\\n0                               27527.039467   \n1                               25221.643433   \n2                               17800.114886   \n3                               17092.102978   \n4                               21989.632429   \n\n  Średni miesięczny dochód opodatkowany na osobę  \n0                                    2293.919956  \n1                                    2101.803619  \n2                                    1483.342907  \n3                                    1424.341915  \n4                                    1832.469369  ",
      "text/html": "<div>\n<style scoped>\n    .dataframe tbody tr th:only-of-type {\n        vertical-align: middle;\n    }\n\n    .dataframe tbody tr th {\n        vertical-align: top;\n    }\n\n    .dataframe thead th {\n        text-align: right;\n    }\n</style>\n<table border=\"1\" class=\"dataframe\">\n  <thead>\n    <tr style=\"text-align: right;\">\n      <th></th>\n      <th>Kod Jednostki Terytorialnej</th>\n      <th>Nazwa JST</th>\n      <th>Województwo</th>\n      <th>Powiat</th>\n      <th>Dochód z PIT w 2020</th>\n      <th>Liczba ludności pracującej</th>\n      <th>Podatek od osoby dla JST</th>\n      <th>Całkowity podatek zapłacony przez osobę</th>\n      <th>Średni roczny dochód opodatkowany na osobę</th>\n      <th>Średni miesięczny dochód opodatkowany na osobę</th>\n    </tr>\n  </thead>\n  <tbody>\n    <tr>\n      <th>0</th>\n      <td>0201011</td>\n      <td>BOLESŁAWIEC</td>\n      <td>dolnośląskie</td>\n      <td>bolesławiecki</td>\n      <td>40456699</td>\n      <td>22655.5</td>\n      <td>1785.734104</td>\n      <td>4679.596709</td>\n      <td>27527.039467</td>\n      <td>2293.919956</td>\n    </tr>\n    <tr>\n      <th>1</th>\n      <td>0201022</td>\n      <td>BOLESŁAWIEC</td>\n      <td>dolnośląskie</td>\n      <td>bolesławiecki</td>\n      <td>13789712</td>\n      <td>8428.0</td>\n      <td>1636.178453</td>\n      <td>4287.679384</td>\n      <td>25221.643433</td>\n      <td>2101.803619</td>\n    </tr>\n    <tr>\n      <th>2</th>\n      <td>0201032</td>\n      <td>GROMADKA</td>\n      <td>dolnośląskie</td>\n      <td>bolesławiecki</td>\n      <td>3573540</td>\n      <td>3094.7</td>\n      <td>1154.729053</td>\n      <td>3026.019531</td>\n      <td>17800.114886</td>\n      <td>1483.342907</td>\n    </tr>\n    <tr>\n      <th>3</th>\n      <td>0201043</td>\n      <td>NOWOGRODZIEC</td>\n      <td>dolnośląskie</td>\n      <td>bolesławiecki</td>\n      <td>9553744</td>\n      <td>8616.3</td>\n      <td>1108.798904</td>\n      <td>2905.657506</td>\n      <td>17092.102978</td>\n      <td>1424.341915</td>\n    </tr>\n    <tr>\n      <th>4</th>\n      <td>0201052</td>\n      <td>OSIECZNICA</td>\n      <td>dolnośląskie</td>\n      <td>bolesławiecki</td>\n      <td>5844560</td>\n      <td>4097.1</td>\n      <td>1426.511435</td>\n      <td>3738.237513</td>\n      <td>21989.632429</td>\n      <td>1832.469369</td>\n    </tr>\n  </tbody>\n</table>\n</div>"
     },
     "execution_count": 10,
     "metadata": {},
     "output_type": "execute_result"
    }
   ],
   "source": [
    "df_gminy_20 = create_data_frame(gminy_20, \"2020\")\n",
    "\n",
    "df_gminy_income = run_taxed_income(gminy_populacja, 0.7, df_gminy_20, \"Gminy\", share_gmina_20, tax_threshold, writer_gminy)\n",
    "\n",
    "writer_gminy.save()\n",
    "\n",
    "df_gminy_income.head()"
   ],
   "metadata": {
    "collapsed": false,
    "pycharm": {
     "name": "#%%\n"
    }
   }
  },
  {
   "cell_type": "markdown",
   "source": [
    "### Powiaty"
   ],
   "metadata": {
    "collapsed": false
   }
  },
  {
   "cell_type": "code",
   "execution_count": 11,
   "outputs": [
    {
     "data": {
      "text/plain": "  Kod Jednostki Terytorialnej       Nazwa JST   Województwo Powiat  \\\n0                        0201   bolesławiecki  dolnośląskie      -   \n1                        0202  dzierżoniowski  dolnośląskie      -   \n2                        0203       głogowski  dolnośląskie      -   \n3                        0204        górowski  dolnośląskie      -   \n4                        0205        jaworski  dolnośląskie      -   \n\n   Dochód z PIT w 2020 Liczba ludności pracującej Podatek od osoby dla JST  \\\n0             21276533                    51769.9               410.982695   \n1             21328692                    59117.1               360.787183   \n2             28916309                    50754.9                569.72448   \n3              5682116                    19878.6               285.840854   \n4             10450783                    29031.8               359.977094   \n\n  Całkowity podatek zapłacony przez osobę  \\\n0                             4009.587264   \n1                              3519.87496   \n2                             5558.287608   \n3                             2788.691258   \n4                              3511.97165   \n\n  Średni roczny dochód opodatkowany na osobę  \\\n0                               23585.807436   \n1                               20705.146824   \n2                               32695.809458   \n3                               16404.066226   \n4                               20658.656762   \n\n  Średni miesięczny dochód opodatkowany na osobę  \n0                                    1965.483953  \n1                                    1725.428902  \n2                                    2724.650788  \n3                                    1367.005519  \n4                                     1721.55473  ",
      "text/html": "<div>\n<style scoped>\n    .dataframe tbody tr th:only-of-type {\n        vertical-align: middle;\n    }\n\n    .dataframe tbody tr th {\n        vertical-align: top;\n    }\n\n    .dataframe thead th {\n        text-align: right;\n    }\n</style>\n<table border=\"1\" class=\"dataframe\">\n  <thead>\n    <tr style=\"text-align: right;\">\n      <th></th>\n      <th>Kod Jednostki Terytorialnej</th>\n      <th>Nazwa JST</th>\n      <th>Województwo</th>\n      <th>Powiat</th>\n      <th>Dochód z PIT w 2020</th>\n      <th>Liczba ludności pracującej</th>\n      <th>Podatek od osoby dla JST</th>\n      <th>Całkowity podatek zapłacony przez osobę</th>\n      <th>Średni roczny dochód opodatkowany na osobę</th>\n      <th>Średni miesięczny dochód opodatkowany na osobę</th>\n    </tr>\n  </thead>\n  <tbody>\n    <tr>\n      <th>0</th>\n      <td>0201</td>\n      <td>bolesławiecki</td>\n      <td>dolnośląskie</td>\n      <td>-</td>\n      <td>21276533</td>\n      <td>51769.9</td>\n      <td>410.982695</td>\n      <td>4009.587264</td>\n      <td>23585.807436</td>\n      <td>1965.483953</td>\n    </tr>\n    <tr>\n      <th>1</th>\n      <td>0202</td>\n      <td>dzierżoniowski</td>\n      <td>dolnośląskie</td>\n      <td>-</td>\n      <td>21328692</td>\n      <td>59117.1</td>\n      <td>360.787183</td>\n      <td>3519.87496</td>\n      <td>20705.146824</td>\n      <td>1725.428902</td>\n    </tr>\n    <tr>\n      <th>2</th>\n      <td>0203</td>\n      <td>głogowski</td>\n      <td>dolnośląskie</td>\n      <td>-</td>\n      <td>28916309</td>\n      <td>50754.9</td>\n      <td>569.72448</td>\n      <td>5558.287608</td>\n      <td>32695.809458</td>\n      <td>2724.650788</td>\n    </tr>\n    <tr>\n      <th>3</th>\n      <td>0204</td>\n      <td>górowski</td>\n      <td>dolnośląskie</td>\n      <td>-</td>\n      <td>5682116</td>\n      <td>19878.6</td>\n      <td>285.840854</td>\n      <td>2788.691258</td>\n      <td>16404.066226</td>\n      <td>1367.005519</td>\n    </tr>\n    <tr>\n      <th>4</th>\n      <td>0205</td>\n      <td>jaworski</td>\n      <td>dolnośląskie</td>\n      <td>-</td>\n      <td>10450783</td>\n      <td>29031.8</td>\n      <td>359.977094</td>\n      <td>3511.97165</td>\n      <td>20658.656762</td>\n      <td>1721.55473</td>\n    </tr>\n  </tbody>\n</table>\n</div>"
     },
     "execution_count": 11,
     "metadata": {},
     "output_type": "execute_result"
    }
   ],
   "source": [
    "df_powiaty_20 = create_data_frame(powiaty_20, \"2020\")\n",
    "\n",
    "df_powiaty_income = run_taxed_income(powiaty_populacja, 0.7, df_powiaty_20, \"Powiaty\", share_powiat, tax_threshold, writer_powiaty)\n",
    "\n",
    "df_powiaty_income.head()"
   ],
   "metadata": {
    "collapsed": false,
    "pycharm": {
     "name": "#%%\n"
    }
   }
  },
  {
   "cell_type": "markdown",
   "source": [
    "### Województwa"
   ],
   "metadata": {
    "collapsed": false
   }
  },
  {
   "cell_type": "code",
   "execution_count": 12,
   "outputs": [
    {
     "data": {
      "text/plain": "  Kod Jednostki Terytorialnej           Nazwa JST Województwo Powiat  \\\n0                          02        dolnośląskie           -      -   \n1                          04  kujawsko-pomorskie           -      -   \n2                          06           lubelskie           -      -   \n3                          08            lubuskie           -      -   \n4                          10             łódzkie           -      -   \n\n   Dochód z PIT w 2020 Liczba ludności pracującej Podatek od osoby dla JST  \\\n0            143787146                  1675267.3                85.829375   \n1             77938448                  1183245.7                65.868355   \n2             65228210                  1208862.9                53.958319   \n3             38895731                   577462.2                67.356324   \n4            106927491                  1415272.6                75.552576   \n\n  Całkowity podatek zapłacony przez osobę  \\\n0                             5364.335963   \n1                             4116.772197   \n2                             3372.394938   \n3                             4209.770246   \n4                             4722.036014   \n\n  Średni roczny dochód opodatkowany na osobę  \\\n0                               31554.917429   \n1                               24216.307041   \n2                               19837.617284   \n3                               24763.354386   \n4                               27776.682438   \n\n  Średni miesięczny dochód opodatkowany na osobę  \n0                                    2629.576452  \n1                                    2018.025587  \n2                                    1653.134774  \n3                                    2063.612865  \n4                                    2314.723537  ",
      "text/html": "<div>\n<style scoped>\n    .dataframe tbody tr th:only-of-type {\n        vertical-align: middle;\n    }\n\n    .dataframe tbody tr th {\n        vertical-align: top;\n    }\n\n    .dataframe thead th {\n        text-align: right;\n    }\n</style>\n<table border=\"1\" class=\"dataframe\">\n  <thead>\n    <tr style=\"text-align: right;\">\n      <th></th>\n      <th>Kod Jednostki Terytorialnej</th>\n      <th>Nazwa JST</th>\n      <th>Województwo</th>\n      <th>Powiat</th>\n      <th>Dochód z PIT w 2020</th>\n      <th>Liczba ludności pracującej</th>\n      <th>Podatek od osoby dla JST</th>\n      <th>Całkowity podatek zapłacony przez osobę</th>\n      <th>Średni roczny dochód opodatkowany na osobę</th>\n      <th>Średni miesięczny dochód opodatkowany na osobę</th>\n    </tr>\n  </thead>\n  <tbody>\n    <tr>\n      <th>0</th>\n      <td>02</td>\n      <td>dolnośląskie</td>\n      <td>-</td>\n      <td>-</td>\n      <td>143787146</td>\n      <td>1675267.3</td>\n      <td>85.829375</td>\n      <td>5364.335963</td>\n      <td>31554.917429</td>\n      <td>2629.576452</td>\n    </tr>\n    <tr>\n      <th>1</th>\n      <td>04</td>\n      <td>kujawsko-pomorskie</td>\n      <td>-</td>\n      <td>-</td>\n      <td>77938448</td>\n      <td>1183245.7</td>\n      <td>65.868355</td>\n      <td>4116.772197</td>\n      <td>24216.307041</td>\n      <td>2018.025587</td>\n    </tr>\n    <tr>\n      <th>2</th>\n      <td>06</td>\n      <td>lubelskie</td>\n      <td>-</td>\n      <td>-</td>\n      <td>65228210</td>\n      <td>1208862.9</td>\n      <td>53.958319</td>\n      <td>3372.394938</td>\n      <td>19837.617284</td>\n      <td>1653.134774</td>\n    </tr>\n    <tr>\n      <th>3</th>\n      <td>08</td>\n      <td>lubuskie</td>\n      <td>-</td>\n      <td>-</td>\n      <td>38895731</td>\n      <td>577462.2</td>\n      <td>67.356324</td>\n      <td>4209.770246</td>\n      <td>24763.354386</td>\n      <td>2063.612865</td>\n    </tr>\n    <tr>\n      <th>4</th>\n      <td>10</td>\n      <td>łódzkie</td>\n      <td>-</td>\n      <td>-</td>\n      <td>106927491</td>\n      <td>1415272.6</td>\n      <td>75.552576</td>\n      <td>4722.036014</td>\n      <td>27776.682438</td>\n      <td>2314.723537</td>\n    </tr>\n  </tbody>\n</table>\n</div>"
     },
     "execution_count": 12,
     "metadata": {},
     "output_type": "execute_result"
    }
   ],
   "source": [
    "df_woj_20 = create_data_frame(województwa_20, \"2020\")\n",
    "\n",
    "df_woj_income = run_taxed_income(województwa_populacja, 0.7, df_woj_20, \"Województwa\", share_województwo, tax_threshold, writer_województwa)\n",
    "\n",
    "df_woj_income.head()"
   ],
   "metadata": {
    "collapsed": false,
    "pycharm": {
     "name": "#%%\n"
    }
   }
  },
  {
   "cell_type": "markdown",
   "source": [
    "### Miasta na prawie powiatu"
   ],
   "metadata": {
    "collapsed": false
   }
  },
  {
   "cell_type": "code",
   "execution_count": 13,
   "outputs": [
    {
     "data": {
      "text/plain": "  Kod Jednostki Terytorialnej     Nazwa JST         Województwo Powiat  \\\n0                        0261  Jelenia Góra        dolnośląskie      -   \n1                        0262       Legnica        dolnośląskie      -   \n2                        0264       Wrocław        dolnośląskie      -   \n3                        0265     Wałbrzych        dolnośląskie      -   \n4                        0461     Bydgoszcz  kujawsko-pomorskie      -   \n\n   Dochód z PIT w 2020 Liczba ludności pracującej Podatek od osoby dla JST  \\\n0            103788614                    46793.6              2218.008745   \n1            140528834                    57472.8              2445.136378   \n2           1459764686                   371933.1               3924.80445   \n3            123684562                    65706.2              1882.387994   \n4            514328370                   202334.3               2541.97321   \n\n  Całkowity podatek zapłacony przez osobę  \\\n0                              4581.71606   \n1                             5050.891092   \n2                             8107.425016   \n3                             3888.427998   \n4                             5250.925862   \n\n  Średni roczny dochód opodatkowany na osobę  \\\n0                               26951.270943   \n1                                29711.12407   \n2                               47690.735386   \n3                               22873.105871   \n4                               30887.799187   \n\n  Średni miesięczny dochód opodatkowany na osobę  \n0                                    2245.939245  \n1                                    2475.927006  \n2                                    3974.227949  \n3                                    1906.092156  \n4                                    2573.983266  ",
      "text/html": "<div>\n<style scoped>\n    .dataframe tbody tr th:only-of-type {\n        vertical-align: middle;\n    }\n\n    .dataframe tbody tr th {\n        vertical-align: top;\n    }\n\n    .dataframe thead th {\n        text-align: right;\n    }\n</style>\n<table border=\"1\" class=\"dataframe\">\n  <thead>\n    <tr style=\"text-align: right;\">\n      <th></th>\n      <th>Kod Jednostki Terytorialnej</th>\n      <th>Nazwa JST</th>\n      <th>Województwo</th>\n      <th>Powiat</th>\n      <th>Dochód z PIT w 2020</th>\n      <th>Liczba ludności pracującej</th>\n      <th>Podatek od osoby dla JST</th>\n      <th>Całkowity podatek zapłacony przez osobę</th>\n      <th>Średni roczny dochód opodatkowany na osobę</th>\n      <th>Średni miesięczny dochód opodatkowany na osobę</th>\n    </tr>\n  </thead>\n  <tbody>\n    <tr>\n      <th>0</th>\n      <td>0261</td>\n      <td>Jelenia Góra</td>\n      <td>dolnośląskie</td>\n      <td>-</td>\n      <td>103788614</td>\n      <td>46793.6</td>\n      <td>2218.008745</td>\n      <td>4581.71606</td>\n      <td>26951.270943</td>\n      <td>2245.939245</td>\n    </tr>\n    <tr>\n      <th>1</th>\n      <td>0262</td>\n      <td>Legnica</td>\n      <td>dolnośląskie</td>\n      <td>-</td>\n      <td>140528834</td>\n      <td>57472.8</td>\n      <td>2445.136378</td>\n      <td>5050.891092</td>\n      <td>29711.12407</td>\n      <td>2475.927006</td>\n    </tr>\n    <tr>\n      <th>2</th>\n      <td>0264</td>\n      <td>Wrocław</td>\n      <td>dolnośląskie</td>\n      <td>-</td>\n      <td>1459764686</td>\n      <td>371933.1</td>\n      <td>3924.80445</td>\n      <td>8107.425016</td>\n      <td>47690.735386</td>\n      <td>3974.227949</td>\n    </tr>\n    <tr>\n      <th>3</th>\n      <td>0265</td>\n      <td>Wałbrzych</td>\n      <td>dolnośląskie</td>\n      <td>-</td>\n      <td>123684562</td>\n      <td>65706.2</td>\n      <td>1882.387994</td>\n      <td>3888.427998</td>\n      <td>22873.105871</td>\n      <td>1906.092156</td>\n    </tr>\n    <tr>\n      <th>4</th>\n      <td>0461</td>\n      <td>Bydgoszcz</td>\n      <td>kujawsko-pomorskie</td>\n      <td>-</td>\n      <td>514328370</td>\n      <td>202334.3</td>\n      <td>2541.97321</td>\n      <td>5250.925862</td>\n      <td>30887.799187</td>\n      <td>2573.983266</td>\n    </tr>\n  </tbody>\n</table>\n</div>"
     },
     "execution_count": 13,
     "metadata": {},
     "output_type": "execute_result"
    }
   ],
   "source": [
    "df_miasta_20 = sum_rows(create_data_frame(miasta_20, \"2020\"), \"2020\")\n",
    "\n",
    "df = run_taxed_income(powiaty_populacja, 0.7, df_miasta_20, \"Miasta\", share_miasto_20, tax_threshold, writer_miasta)\n",
    "\n",
    "writer_miasta.save()\n",
    "\n",
    "df.head()"
   ],
   "metadata": {
    "collapsed": false,
    "pycharm": {
     "name": "#%%\n"
    }
   }
  },
  {
   "cell_type": "markdown",
   "source": [
    "### Problemy\n",
    "\n",
    "W założeniach mieliśmy przyjąć, że wszyscy są opodatkowani\n",
    "według pierwszego progu podatkowego.\n",
    "\n",
    "Podatek jaki odprowadza osoba mieszcząca się w pierwszym progu\n",
    "podatkowym jest pomniejszany o \"kwotę zmiejszającą podatek\".\n",
    "Na tę kwotę w 2020 roku składa się skomplikowany według mnie wzór.\n",
    "Zatem w obliczeniach kwota ta nie jest uwzględniona.\n",
    "\n",
    "Kto płaci PIT? Wszyscy emeryci (ponieważ, wszyscy są w 1 progu\n",
    "podatkowym), osoby bezrobotne otrzymujące zasiłek, osoby pracujące.\n",
    "Brak danych o liczbie osób bezrobotnych otrzymujących zasiłek oraz\n",
    "procencie osób pracujących w wieku produkcyjnym. Zatem zgodnie z\n",
    "sugestią przyjęłam jakiś arbitralny procent - 70% osób w wieku\n",
    "produkcyjnym oraz poprodukcyjym płaci podatek PIT.\n",
    "\n",
    "W zadaniu nie było doprecyzowane, czy średni dochód ma być w skali\n",
    "rocznej czy miesięcznej. Zatem policzyłam oba średnie dochody."
   ],
   "metadata": {
    "collapsed": false,
    "pycharm": {
     "name": "#%% md\n"
    }
   }
  },
  {
   "cell_type": "markdown",
   "source": [
    "## III. Wariancja dochodu w jednostkach podległych"
   ],
   "metadata": {
    "collapsed": false
   }
  },
  {
   "cell_type": "code",
   "execution_count": 14,
   "outputs": [],
   "source": [
    "from package_pit.pit_assignment.run_calculation import run_variance"
   ],
   "metadata": {
    "collapsed": false,
    "pycharm": {
     "name": "#%%\n"
    }
   }
  },
  {
   "cell_type": "markdown",
   "source": [
    "### Powiaty"
   ],
   "metadata": {
    "collapsed": false
   }
  },
  {
   "cell_type": "code",
   "execution_count": 15,
   "outputs": [
    {
     "data": {
      "text/plain": "  Kod Jednostki Terytorialnej       Nazwa JST   Województwo Powiat  \\\n0                        0201   bolesławiecki  dolnośląskie      -   \n1                        0202  dzierżoniowski  dolnośląskie      -   \n2                        0203       głogowski  dolnośląskie      -   \n3                        0204        górowski  dolnośląskie      -   \n4                        0205        jaworski  dolnośląskie      -   \n\n   Dochód z PIT w 2020 Liczba ludności pracującej Podatek od osoby dla JST  \\\n0             21276533                    51769.9               410.982695   \n1             21328692                    59117.1               360.787183   \n2             28916309                    50754.9                569.72448   \n3              5682116                    19878.6               285.840854   \n4             10450783                    29031.8               359.977094   \n\n  Całkowity podatek zapłacony przez osobę  \\\n0                             4009.587264   \n1                              3519.87496   \n2                             5558.287608   \n3                             2788.691258   \n4                              3511.97165   \n\n  Średni roczny dochód opodatkowany na osobę  \\\n0                               23585.807436   \n1                               20705.146824   \n2                               32695.809458   \n3                               16404.066226   \n4                               20658.656762   \n\n  Średni miesięczny dochód opodatkowany na osobę  \\\n0                                    1965.483953   \n1                                    1725.428902   \n2                                    2724.650788   \n3                                    1367.005519   \n4                                     1721.55473   \n\n  Wariancja średniego rocznego dochodu w podległych JST  \\\n0                                    18015159.321624      \n1                                     10120971.19193      \n2                                   114383698.216913      \n3                                     9439433.619228      \n4                                    11549986.703897      \n\n  Wariancja średniego miesięcznego dochodu w podległych JST  \n0                                      125105.273067         \n1                                       70284.522166         \n2                                      794331.237617         \n3                                       65551.622356         \n4                                       80208.240999         ",
      "text/html": "<div>\n<style scoped>\n    .dataframe tbody tr th:only-of-type {\n        vertical-align: middle;\n    }\n\n    .dataframe tbody tr th {\n        vertical-align: top;\n    }\n\n    .dataframe thead th {\n        text-align: right;\n    }\n</style>\n<table border=\"1\" class=\"dataframe\">\n  <thead>\n    <tr style=\"text-align: right;\">\n      <th></th>\n      <th>Kod Jednostki Terytorialnej</th>\n      <th>Nazwa JST</th>\n      <th>Województwo</th>\n      <th>Powiat</th>\n      <th>Dochód z PIT w 2020</th>\n      <th>Liczba ludności pracującej</th>\n      <th>Podatek od osoby dla JST</th>\n      <th>Całkowity podatek zapłacony przez osobę</th>\n      <th>Średni roczny dochód opodatkowany na osobę</th>\n      <th>Średni miesięczny dochód opodatkowany na osobę</th>\n      <th>Wariancja średniego rocznego dochodu w podległych JST</th>\n      <th>Wariancja średniego miesięcznego dochodu w podległych JST</th>\n    </tr>\n  </thead>\n  <tbody>\n    <tr>\n      <th>0</th>\n      <td>0201</td>\n      <td>bolesławiecki</td>\n      <td>dolnośląskie</td>\n      <td>-</td>\n      <td>21276533</td>\n      <td>51769.9</td>\n      <td>410.982695</td>\n      <td>4009.587264</td>\n      <td>23585.807436</td>\n      <td>1965.483953</td>\n      <td>18015159.321624</td>\n      <td>125105.273067</td>\n    </tr>\n    <tr>\n      <th>1</th>\n      <td>0202</td>\n      <td>dzierżoniowski</td>\n      <td>dolnośląskie</td>\n      <td>-</td>\n      <td>21328692</td>\n      <td>59117.1</td>\n      <td>360.787183</td>\n      <td>3519.87496</td>\n      <td>20705.146824</td>\n      <td>1725.428902</td>\n      <td>10120971.19193</td>\n      <td>70284.522166</td>\n    </tr>\n    <tr>\n      <th>2</th>\n      <td>0203</td>\n      <td>głogowski</td>\n      <td>dolnośląskie</td>\n      <td>-</td>\n      <td>28916309</td>\n      <td>50754.9</td>\n      <td>569.72448</td>\n      <td>5558.287608</td>\n      <td>32695.809458</td>\n      <td>2724.650788</td>\n      <td>114383698.216913</td>\n      <td>794331.237617</td>\n    </tr>\n    <tr>\n      <th>3</th>\n      <td>0204</td>\n      <td>górowski</td>\n      <td>dolnośląskie</td>\n      <td>-</td>\n      <td>5682116</td>\n      <td>19878.6</td>\n      <td>285.840854</td>\n      <td>2788.691258</td>\n      <td>16404.066226</td>\n      <td>1367.005519</td>\n      <td>9439433.619228</td>\n      <td>65551.622356</td>\n    </tr>\n    <tr>\n      <th>4</th>\n      <td>0205</td>\n      <td>jaworski</td>\n      <td>dolnośląskie</td>\n      <td>-</td>\n      <td>10450783</td>\n      <td>29031.8</td>\n      <td>359.977094</td>\n      <td>3511.97165</td>\n      <td>20658.656762</td>\n      <td>1721.55473</td>\n      <td>11549986.703897</td>\n      <td>80208.240999</td>\n    </tr>\n  </tbody>\n</table>\n</div>"
     },
     "execution_count": 15,
     "metadata": {},
     "output_type": "execute_result"
    }
   ],
   "source": [
    "df = run_variance(df_powiaty_income, df_gminy_income, \"2020\", writer_powiaty)\n",
    "\n",
    "df.head()"
   ],
   "metadata": {
    "collapsed": false,
    "pycharm": {
     "name": "#%%\n"
    }
   }
  },
  {
   "cell_type": "markdown",
   "source": [
    "### Województwa"
   ],
   "metadata": {
    "collapsed": false
   }
  },
  {
   "cell_type": "code",
   "execution_count": 16,
   "outputs": [
    {
     "data": {
      "text/plain": "  Kod Jednostki Terytorialnej           Nazwa JST Województwo Powiat  \\\n0                          02        dolnośląskie           -      -   \n1                          04  kujawsko-pomorskie           -      -   \n2                          06           lubelskie           -      -   \n3                          08            lubuskie           -      -   \n4                          10             łódzkie           -      -   \n\n   Dochód z PIT w 2020 Liczba ludności pracującej Podatek od osoby dla JST  \\\n0            143787146                  1675267.3                85.829375   \n1             77938448                  1183245.7                65.868355   \n2             65228210                  1208862.9                53.958319   \n3             38895731                   577462.2                67.356324   \n4            106927491                  1415272.6                75.552576   \n\n  Całkowity podatek zapłacony przez osobę  \\\n0                             5364.335963   \n1                             4116.772197   \n2                             3372.394938   \n3                             4209.770246   \n4                             4722.036014   \n\n  Średni roczny dochód opodatkowany na osobę  \\\n0                               31554.917429   \n1                               24216.307041   \n2                               19837.617284   \n3                               24763.354386   \n4                               27776.682438   \n\n  Średni miesięczny dochód opodatkowany na osobę  \\\n0                                    2629.576452   \n1                                    2018.025587   \n2                                    1653.134774   \n3                                    2063.612865   \n4                                    2314.723537   \n\n  Wariancja średniego rocznego dochodu w podległych JST  \\\n0                                    51355215.273072      \n1                                    20889613.372517      \n2                                    13186464.611498      \n3                                     6993300.381163      \n4                                    21889758.827245      \n\n  Wariancja średniego miesięcznego dochodu w podległych JST  \n0                                      356633.439396         \n1                                      145066.759531         \n2                                       91572.670913         \n3                                        48564.58598         \n4                                      152012.214078         ",
      "text/html": "<div>\n<style scoped>\n    .dataframe tbody tr th:only-of-type {\n        vertical-align: middle;\n    }\n\n    .dataframe tbody tr th {\n        vertical-align: top;\n    }\n\n    .dataframe thead th {\n        text-align: right;\n    }\n</style>\n<table border=\"1\" class=\"dataframe\">\n  <thead>\n    <tr style=\"text-align: right;\">\n      <th></th>\n      <th>Kod Jednostki Terytorialnej</th>\n      <th>Nazwa JST</th>\n      <th>Województwo</th>\n      <th>Powiat</th>\n      <th>Dochód z PIT w 2020</th>\n      <th>Liczba ludności pracującej</th>\n      <th>Podatek od osoby dla JST</th>\n      <th>Całkowity podatek zapłacony przez osobę</th>\n      <th>Średni roczny dochód opodatkowany na osobę</th>\n      <th>Średni miesięczny dochód opodatkowany na osobę</th>\n      <th>Wariancja średniego rocznego dochodu w podległych JST</th>\n      <th>Wariancja średniego miesięcznego dochodu w podległych JST</th>\n    </tr>\n  </thead>\n  <tbody>\n    <tr>\n      <th>0</th>\n      <td>02</td>\n      <td>dolnośląskie</td>\n      <td>-</td>\n      <td>-</td>\n      <td>143787146</td>\n      <td>1675267.3</td>\n      <td>85.829375</td>\n      <td>5364.335963</td>\n      <td>31554.917429</td>\n      <td>2629.576452</td>\n      <td>51355215.273072</td>\n      <td>356633.439396</td>\n    </tr>\n    <tr>\n      <th>1</th>\n      <td>04</td>\n      <td>kujawsko-pomorskie</td>\n      <td>-</td>\n      <td>-</td>\n      <td>77938448</td>\n      <td>1183245.7</td>\n      <td>65.868355</td>\n      <td>4116.772197</td>\n      <td>24216.307041</td>\n      <td>2018.025587</td>\n      <td>20889613.372517</td>\n      <td>145066.759531</td>\n    </tr>\n    <tr>\n      <th>2</th>\n      <td>06</td>\n      <td>lubelskie</td>\n      <td>-</td>\n      <td>-</td>\n      <td>65228210</td>\n      <td>1208862.9</td>\n      <td>53.958319</td>\n      <td>3372.394938</td>\n      <td>19837.617284</td>\n      <td>1653.134774</td>\n      <td>13186464.611498</td>\n      <td>91572.670913</td>\n    </tr>\n    <tr>\n      <th>3</th>\n      <td>08</td>\n      <td>lubuskie</td>\n      <td>-</td>\n      <td>-</td>\n      <td>38895731</td>\n      <td>577462.2</td>\n      <td>67.356324</td>\n      <td>4209.770246</td>\n      <td>24763.354386</td>\n      <td>2063.612865</td>\n      <td>6993300.381163</td>\n      <td>48564.58598</td>\n    </tr>\n    <tr>\n      <th>4</th>\n      <td>10</td>\n      <td>łódzkie</td>\n      <td>-</td>\n      <td>-</td>\n      <td>106927491</td>\n      <td>1415272.6</td>\n      <td>75.552576</td>\n      <td>4722.036014</td>\n      <td>27776.682438</td>\n      <td>2314.723537</td>\n      <td>21889758.827245</td>\n      <td>152012.214078</td>\n    </tr>\n  </tbody>\n</table>\n</div>"
     },
     "execution_count": 16,
     "metadata": {},
     "output_type": "execute_result"
    }
   ],
   "source": [
    "df = run_variance(df_woj_income, df_powiaty_income, \"2020\", writer_województwa)\n",
    "\n",
    "df.head()"
   ],
   "metadata": {
    "collapsed": false,
    "pycharm": {
     "name": "#%%\n"
    }
   }
  },
  {
   "cell_type": "markdown",
   "source": [
    "### Problemy\n",
    "\n",
    "Nie jestem pewna czy mieliśmy policzyć wariancję dochodu z PIT\n",
    "czy dochodu opodatkowanego.\n",
    "\n",
    "Zatem policzyłam wariancję dochodu opodatkowanego."
   ],
   "metadata": {
    "collapsed": false,
    "pycharm": {
     "name": "#%% md\n"
    }
   }
  },
  {
   "cell_type": "markdown",
   "source": [
    "## IV. Średnia ważona dochodu jednostek podległych"
   ],
   "metadata": {
    "collapsed": false,
    "pycharm": {
     "name": "#%% md\n"
    }
   }
  },
  {
   "cell_type": "markdown",
   "source": [
    "### Powiaty"
   ],
   "metadata": {
    "collapsed": false
   }
  },
  {
   "cell_type": "code",
   "execution_count": 17,
   "outputs": [],
   "source": [
    "from package_pit.pit_assignment.run_calculation import run_weighted_average"
   ],
   "metadata": {
    "collapsed": false,
    "pycharm": {
     "name": "#%%\n"
    }
   }
  },
  {
   "cell_type": "code",
   "execution_count": 18,
   "outputs": [
    {
     "data": {
      "text/plain": "  Kod Jednostki Terytorialnej       Nazwa JST   Województwo Powiat  \\\n0                        0201   bolesławiecki  dolnośląskie      -   \n1                        0202  dzierżoniowski  dolnośląskie      -   \n2                        0203       głogowski  dolnośląskie      -   \n3                        0204        górowski  dolnośląskie      -   \n4                        0205        jaworski  dolnośląskie      -   \n\n   Dochód z PIT w 2020 Liczba ludności pracującej Podatek od osoby dla JST  \\\n0             21276533                    51769.9               410.982695   \n1             21328692                    59117.1               360.787183   \n2             28916309                    50754.9                569.72448   \n3              5682116                    19878.6               285.840854   \n4             10450783                    29031.8               359.977094   \n\n  Całkowity podatek zapłacony przez osobę  \\\n0                             4009.587264   \n1                              3519.87496   \n2                             5558.287608   \n3                             2788.691258   \n4                              3511.97165   \n\n  Średni roczny dochód opodatkowany na osobę  \\\n0                               23585.807436   \n1                               20705.146824   \n2                               32695.809458   \n3                               16404.066226   \n4                               20658.656762   \n\n  Średni miesięczny dochód opodatkowany na osobę  \\\n0                                    1965.483953   \n1                                    1725.428902   \n2                                    2724.650788   \n3                                    1367.005519   \n4                                     1721.55473   \n\n  Średnia ważona rocznego dochodu opodatkowanego jednostek podległych  \\\n0                                        23586.20034                    \n1                                       20705.167851                    \n2                                        32696.36841                    \n3                                       16404.548105                    \n4                                       20659.210428                    \n\n  Średnia ważona miesięcznego dochodu opodatkowanego jednostek podległych  \\\n0                                        1965.516695                        \n1                                        1725.430654                        \n2                                        2724.697368                        \n3                                        1367.045675                        \n4                                        1721.600869                        \n\n  Różnica średnich rocznych Różnica średnich miesięcznych  \n0                 -0.392904                     -0.032742  \n1                 -0.021027                     -0.001752  \n2                 -0.558953                     -0.046579  \n3                 -0.481879                     -0.040157  \n4                 -0.553665                     -0.046139  ",
      "text/html": "<div>\n<style scoped>\n    .dataframe tbody tr th:only-of-type {\n        vertical-align: middle;\n    }\n\n    .dataframe tbody tr th {\n        vertical-align: top;\n    }\n\n    .dataframe thead th {\n        text-align: right;\n    }\n</style>\n<table border=\"1\" class=\"dataframe\">\n  <thead>\n    <tr style=\"text-align: right;\">\n      <th></th>\n      <th>Kod Jednostki Terytorialnej</th>\n      <th>Nazwa JST</th>\n      <th>Województwo</th>\n      <th>Powiat</th>\n      <th>Dochód z PIT w 2020</th>\n      <th>Liczba ludności pracującej</th>\n      <th>Podatek od osoby dla JST</th>\n      <th>Całkowity podatek zapłacony przez osobę</th>\n      <th>Średni roczny dochód opodatkowany na osobę</th>\n      <th>Średni miesięczny dochód opodatkowany na osobę</th>\n      <th>Średnia ważona rocznego dochodu opodatkowanego jednostek podległych</th>\n      <th>Średnia ważona miesięcznego dochodu opodatkowanego jednostek podległych</th>\n      <th>Różnica średnich rocznych</th>\n      <th>Różnica średnich miesięcznych</th>\n    </tr>\n  </thead>\n  <tbody>\n    <tr>\n      <th>0</th>\n      <td>0201</td>\n      <td>bolesławiecki</td>\n      <td>dolnośląskie</td>\n      <td>-</td>\n      <td>21276533</td>\n      <td>51769.9</td>\n      <td>410.982695</td>\n      <td>4009.587264</td>\n      <td>23585.807436</td>\n      <td>1965.483953</td>\n      <td>23586.20034</td>\n      <td>1965.516695</td>\n      <td>-0.392904</td>\n      <td>-0.032742</td>\n    </tr>\n    <tr>\n      <th>1</th>\n      <td>0202</td>\n      <td>dzierżoniowski</td>\n      <td>dolnośląskie</td>\n      <td>-</td>\n      <td>21328692</td>\n      <td>59117.1</td>\n      <td>360.787183</td>\n      <td>3519.87496</td>\n      <td>20705.146824</td>\n      <td>1725.428902</td>\n      <td>20705.167851</td>\n      <td>1725.430654</td>\n      <td>-0.021027</td>\n      <td>-0.001752</td>\n    </tr>\n    <tr>\n      <th>2</th>\n      <td>0203</td>\n      <td>głogowski</td>\n      <td>dolnośląskie</td>\n      <td>-</td>\n      <td>28916309</td>\n      <td>50754.9</td>\n      <td>569.72448</td>\n      <td>5558.287608</td>\n      <td>32695.809458</td>\n      <td>2724.650788</td>\n      <td>32696.36841</td>\n      <td>2724.697368</td>\n      <td>-0.558953</td>\n      <td>-0.046579</td>\n    </tr>\n    <tr>\n      <th>3</th>\n      <td>0204</td>\n      <td>górowski</td>\n      <td>dolnośląskie</td>\n      <td>-</td>\n      <td>5682116</td>\n      <td>19878.6</td>\n      <td>285.840854</td>\n      <td>2788.691258</td>\n      <td>16404.066226</td>\n      <td>1367.005519</td>\n      <td>16404.548105</td>\n      <td>1367.045675</td>\n      <td>-0.481879</td>\n      <td>-0.040157</td>\n    </tr>\n    <tr>\n      <th>4</th>\n      <td>0205</td>\n      <td>jaworski</td>\n      <td>dolnośląskie</td>\n      <td>-</td>\n      <td>10450783</td>\n      <td>29031.8</td>\n      <td>359.977094</td>\n      <td>3511.97165</td>\n      <td>20658.656762</td>\n      <td>1721.55473</td>\n      <td>20659.210428</td>\n      <td>1721.600869</td>\n      <td>-0.553665</td>\n      <td>-0.046139</td>\n    </tr>\n  </tbody>\n</table>\n</div>"
     },
     "execution_count": 18,
     "metadata": {},
     "output_type": "execute_result"
    }
   ],
   "source": [
    "df = run_weighted_average(df_powiaty_income, df_gminy_income, writer_powiaty)\n",
    "\n",
    "writer_powiaty.save()\n",
    "\n",
    "df.head()"
   ],
   "metadata": {
    "collapsed": false,
    "pycharm": {
     "name": "#%%\n"
    }
   }
  },
  {
   "cell_type": "markdown",
   "source": [
    "### Województwa"
   ],
   "metadata": {
    "collapsed": false
   }
  },
  {
   "cell_type": "code",
   "execution_count": 19,
   "outputs": [
    {
     "data": {
      "text/plain": "  Kod Jednostki Terytorialnej           Nazwa JST Województwo Powiat  \\\n0                          02        dolnośląskie           -      -   \n1                          04  kujawsko-pomorskie           -      -   \n2                          06           lubelskie           -      -   \n3                          08            lubuskie           -      -   \n4                          10             łódzkie           -      -   \n\n   Dochód z PIT w 2020 Liczba ludności pracującej Podatek od osoby dla JST  \\\n0            143787146                  1675267.3                85.829375   \n1             77938448                  1183245.7                65.868355   \n2             65228210                  1208862.9                53.958319   \n3             38895731                   577462.2                67.356324   \n4            106927491                  1415272.6                75.552576   \n\n  Całkowity podatek zapłacony przez osobę  \\\n0                             5364.335963   \n1                             4116.772197   \n2                             3372.394938   \n3                             4209.770246   \n4                             4722.036014   \n\n  Średni roczny dochód opodatkowany na osobę  \\\n0                               31554.917429   \n1                               24216.307041   \n2                               19837.617284   \n3                               24763.354386   \n4                               27776.682438   \n\n  Średni miesięczny dochód opodatkowany na osobę  \\\n0                                    2629.576452   \n1                                    2018.025587   \n2                                    1653.134774   \n3                                    2063.612865   \n4                                    2314.723537   \n\n  Średnia ważona rocznego dochodu opodatkowanego jednostek podległych  \\\n0                                       18297.689165                    \n1                                       13425.946725                    \n2                                       12589.501472                    \n3                                       16284.296374                    \n4                                       16271.294932                    \n\n  Średnia ważona miesięcznego dochodu opodatkowanego jednostek podległych  \\\n0                                         1524.80743                        \n1                                        1118.828894                        \n2                                        1049.125123                        \n3                                        1357.024698                        \n4                                        1355.941244                        \n\n  Różnica średnich rocznych Różnica średnich miesięcznych  \n0              13257.228264                   1104.769022  \n1              10790.360316                    899.196693  \n2               7248.115812                    604.009651  \n3               8479.058011                    706.588168  \n4              11505.387506                    958.782292  ",
      "text/html": "<div>\n<style scoped>\n    .dataframe tbody tr th:only-of-type {\n        vertical-align: middle;\n    }\n\n    .dataframe tbody tr th {\n        vertical-align: top;\n    }\n\n    .dataframe thead th {\n        text-align: right;\n    }\n</style>\n<table border=\"1\" class=\"dataframe\">\n  <thead>\n    <tr style=\"text-align: right;\">\n      <th></th>\n      <th>Kod Jednostki Terytorialnej</th>\n      <th>Nazwa JST</th>\n      <th>Województwo</th>\n      <th>Powiat</th>\n      <th>Dochód z PIT w 2020</th>\n      <th>Liczba ludności pracującej</th>\n      <th>Podatek od osoby dla JST</th>\n      <th>Całkowity podatek zapłacony przez osobę</th>\n      <th>Średni roczny dochód opodatkowany na osobę</th>\n      <th>Średni miesięczny dochód opodatkowany na osobę</th>\n      <th>Średnia ważona rocznego dochodu opodatkowanego jednostek podległych</th>\n      <th>Średnia ważona miesięcznego dochodu opodatkowanego jednostek podległych</th>\n      <th>Różnica średnich rocznych</th>\n      <th>Różnica średnich miesięcznych</th>\n    </tr>\n  </thead>\n  <tbody>\n    <tr>\n      <th>0</th>\n      <td>02</td>\n      <td>dolnośląskie</td>\n      <td>-</td>\n      <td>-</td>\n      <td>143787146</td>\n      <td>1675267.3</td>\n      <td>85.829375</td>\n      <td>5364.335963</td>\n      <td>31554.917429</td>\n      <td>2629.576452</td>\n      <td>18297.689165</td>\n      <td>1524.80743</td>\n      <td>13257.228264</td>\n      <td>1104.769022</td>\n    </tr>\n    <tr>\n      <th>1</th>\n      <td>04</td>\n      <td>kujawsko-pomorskie</td>\n      <td>-</td>\n      <td>-</td>\n      <td>77938448</td>\n      <td>1183245.7</td>\n      <td>65.868355</td>\n      <td>4116.772197</td>\n      <td>24216.307041</td>\n      <td>2018.025587</td>\n      <td>13425.946725</td>\n      <td>1118.828894</td>\n      <td>10790.360316</td>\n      <td>899.196693</td>\n    </tr>\n    <tr>\n      <th>2</th>\n      <td>06</td>\n      <td>lubelskie</td>\n      <td>-</td>\n      <td>-</td>\n      <td>65228210</td>\n      <td>1208862.9</td>\n      <td>53.958319</td>\n      <td>3372.394938</td>\n      <td>19837.617284</td>\n      <td>1653.134774</td>\n      <td>12589.501472</td>\n      <td>1049.125123</td>\n      <td>7248.115812</td>\n      <td>604.009651</td>\n    </tr>\n    <tr>\n      <th>3</th>\n      <td>08</td>\n      <td>lubuskie</td>\n      <td>-</td>\n      <td>-</td>\n      <td>38895731</td>\n      <td>577462.2</td>\n      <td>67.356324</td>\n      <td>4209.770246</td>\n      <td>24763.354386</td>\n      <td>2063.612865</td>\n      <td>16284.296374</td>\n      <td>1357.024698</td>\n      <td>8479.058011</td>\n      <td>706.588168</td>\n    </tr>\n    <tr>\n      <th>4</th>\n      <td>10</td>\n      <td>łódzkie</td>\n      <td>-</td>\n      <td>-</td>\n      <td>106927491</td>\n      <td>1415272.6</td>\n      <td>75.552576</td>\n      <td>4722.036014</td>\n      <td>27776.682438</td>\n      <td>2314.723537</td>\n      <td>16271.294932</td>\n      <td>1355.941244</td>\n      <td>11505.387506</td>\n      <td>958.782292</td>\n    </tr>\n  </tbody>\n</table>\n</div>"
     },
     "execution_count": 19,
     "metadata": {},
     "output_type": "execute_result"
    }
   ],
   "source": [
    "df = run_weighted_average(df_woj_income, df_powiaty_income, writer_województwa)\n",
    "\n",
    "writer_województwa.save()\n",
    "\n",
    "df.head()"
   ],
   "metadata": {
    "collapsed": false,
    "pycharm": {
     "name": "#%%\n"
    }
   }
  },
  {
   "cell_type": "markdown",
   "source": [
    "### Problemy\n",
    "\n",
    "Nie jestem pewna czy w sensowny sposób policzyłam średnią ważoną.\n",
    "Wynika to z tego, że w treści polecenia nie było doprecyzowane, \n",
    "co mamy przyjąć za \"wagi\".\n",
    "\n",
    "Nie jestem również pewna, czy policzyłam to dla dobrego dochodu\n",
    "(zrozumiałam, że mamy policzyć to dla średniego dochodu\n",
    "opodatkowanego)."
   ],
   "metadata": {
    "collapsed": false,
    "pycharm": {
     "name": "#%% md\n"
    }
   }
  }
 ],
 "metadata": {
  "kernelspec": {
   "name": "python3",
   "language": "python",
   "display_name": "Python 3 (ipykernel)"
  },
  "language_info": {
   "codemirror_mode": {
    "name": "ipython",
    "version": 2
   },
   "file_extension": ".py",
   "mimetype": "text/x-python",
   "name": "python",
   "nbconvert_exporter": "python",
   "pygments_lexer": "ipython2",
   "version": "2.7.6"
  }
 },
 "nbformat": 4,
 "nbformat_minor": 0
}